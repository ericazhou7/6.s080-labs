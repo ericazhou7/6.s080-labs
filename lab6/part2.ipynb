{
 "cells": [
  {
   "cell_type": "code",
   "execution_count": 1,
   "metadata": {},
   "outputs": [],
   "source": [
    "import time\n",
    "from time import perf_counter\n",
    "\n",
    "# Data processing.\n",
    "import json\n",
    "import numpy as np\n",
    "import pandas as pd\n",
    "\n",
    "# Plotting.\n",
    "import matplotlib.pyplot as plt\n",
    "%matplotlib notebook\n",
    "\n",
    "# \"Vanilla\" python parallelism.\n",
    "import multiprocessing\n",
    "\n",
    "# Scalable data analytics: dask.\n",
    "import dask\n",
    "import dask.bag as db\n",
    "import dask.dataframe as dd\n",
    "from dask.distributed import Client, LocalCluster\n",
    "import graphviz\n",
    "\n",
    "# For GC large pandas dataframes after use.\n",
    "import gc\n",
    "\n",
    "# Ignore warnings.\n",
    "import warnings\n",
    "warnings.simplefilter(\"ignore\")"
   ]
  },
  {
   "cell_type": "markdown",
   "metadata": {},
   "source": [
    "# Load Data"
   ]
  },
  {
   "cell_type": "code",
   "execution_count": 2,
   "metadata": {
    "scrolled": true
   },
   "outputs": [
    {
     "data": {
      "text/html": [
       "<div><strong>Dask DataFrame Structure:</strong></div>\n",
       "<div>\n",
       "<style scoped>\n",
       "    .dataframe tbody tr th:only-of-type {\n",
       "        vertical-align: middle;\n",
       "    }\n",
       "\n",
       "    .dataframe tbody tr th {\n",
       "        vertical-align: top;\n",
       "    }\n",
       "\n",
       "    .dataframe thead th {\n",
       "        text-align: right;\n",
       "    }\n",
       "</style>\n",
       "<table border=\"1\" class=\"dataframe\">\n",
       "  <thead>\n",
       "    <tr style=\"text-align: right;\">\n",
       "      <th></th>\n",
       "      <th>id</th>\n",
       "      <th>x</th>\n",
       "      <th>y</th>\n",
       "    </tr>\n",
       "    <tr>\n",
       "      <th>npartitions=88</th>\n",
       "      <th></th>\n",
       "      <th></th>\n",
       "      <th></th>\n",
       "    </tr>\n",
       "  </thead>\n",
       "  <tbody>\n",
       "    <tr>\n",
       "      <th>2018-01-01</th>\n",
       "      <td>int64</td>\n",
       "      <td>float64</td>\n",
       "      <td>float64</td>\n",
       "    </tr>\n",
       "    <tr>\n",
       "      <th>2018-01-02</th>\n",
       "      <td>...</td>\n",
       "      <td>...</td>\n",
       "      <td>...</td>\n",
       "    </tr>\n",
       "    <tr>\n",
       "      <th>...</th>\n",
       "      <td>...</td>\n",
       "      <td>...</td>\n",
       "      <td>...</td>\n",
       "    </tr>\n",
       "    <tr>\n",
       "      <th>2018-03-29</th>\n",
       "      <td>...</td>\n",
       "      <td>...</td>\n",
       "      <td>...</td>\n",
       "    </tr>\n",
       "    <tr>\n",
       "      <th>2018-03-30</th>\n",
       "      <td>...</td>\n",
       "      <td>...</td>\n",
       "      <td>...</td>\n",
       "    </tr>\n",
       "  </tbody>\n",
       "</table>\n",
       "</div>\n",
       "<div>Dask Name: make-timeseries, 88 tasks</div>"
      ],
      "text/plain": [
       "Dask DataFrame Structure:\n",
       "                   id        x        y\n",
       "npartitions=88                         \n",
       "2018-01-01      int64  float64  float64\n",
       "2018-01-02        ...      ...      ...\n",
       "...               ...      ...      ...\n",
       "2018-03-29        ...      ...      ...\n",
       "2018-03-30        ...      ...      ...\n",
       "Dask Name: make-timeseries, 88 tasks"
      ]
     },
     "execution_count": 2,
     "metadata": {},
     "output_type": "execute_result"
    }
   ],
   "source": [
    "# This lazily creates a timeseries dataset for us with around 7.6M rows.\n",
    "dd_df = dd.demo.make_timeseries(start='2018-01-01',\n",
    "                                end='2018-03-30',\n",
    "                                dtypes={'x': float, 'y': float, 'id': int},\n",
    "                                freq='1s',\n",
    "                                partition_freq='24h')\n",
    "\n",
    "dd_df"
   ]
  },
  {
   "cell_type": "code",
   "execution_count": 3,
   "metadata": {
    "scrolled": true
   },
   "outputs": [
    {
     "data": {
      "text/html": [
       "<div>\n",
       "<style scoped>\n",
       "    .dataframe tbody tr th:only-of-type {\n",
       "        vertical-align: middle;\n",
       "    }\n",
       "\n",
       "    .dataframe tbody tr th {\n",
       "        vertical-align: top;\n",
       "    }\n",
       "\n",
       "    .dataframe thead th {\n",
       "        text-align: right;\n",
       "    }\n",
       "</style>\n",
       "<table border=\"1\" class=\"dataframe\">\n",
       "  <thead>\n",
       "    <tr style=\"text-align: right;\">\n",
       "      <th></th>\n",
       "      <th>id</th>\n",
       "      <th>x</th>\n",
       "      <th>y</th>\n",
       "    </tr>\n",
       "    <tr>\n",
       "      <th>timestamp</th>\n",
       "      <th></th>\n",
       "      <th></th>\n",
       "      <th></th>\n",
       "    </tr>\n",
       "  </thead>\n",
       "  <tbody>\n",
       "    <tr>\n",
       "      <th>2018-01-01 00:00:00</th>\n",
       "      <td>1015</td>\n",
       "      <td>0.208634</td>\n",
       "      <td>-0.263514</td>\n",
       "    </tr>\n",
       "    <tr>\n",
       "      <th>2018-01-01 00:00:01</th>\n",
       "      <td>1005</td>\n",
       "      <td>-0.327202</td>\n",
       "      <td>0.694140</td>\n",
       "    </tr>\n",
       "    <tr>\n",
       "      <th>2018-01-01 00:00:02</th>\n",
       "      <td>987</td>\n",
       "      <td>0.377936</td>\n",
       "      <td>-0.069441</td>\n",
       "    </tr>\n",
       "    <tr>\n",
       "      <th>2018-01-01 00:00:03</th>\n",
       "      <td>1003</td>\n",
       "      <td>0.143366</td>\n",
       "      <td>0.796446</td>\n",
       "    </tr>\n",
       "    <tr>\n",
       "      <th>2018-01-01 00:00:04</th>\n",
       "      <td>1044</td>\n",
       "      <td>0.583137</td>\n",
       "      <td>0.412662</td>\n",
       "    </tr>\n",
       "  </tbody>\n",
       "</table>\n",
       "</div>"
      ],
      "text/plain": [
       "                       id         x         y\n",
       "timestamp                                    \n",
       "2018-01-01 00:00:00  1015  0.208634 -0.263514\n",
       "2018-01-01 00:00:01  1005 -0.327202  0.694140\n",
       "2018-01-01 00:00:02   987  0.377936 -0.069441\n",
       "2018-01-01 00:00:03  1003  0.143366  0.796446\n",
       "2018-01-01 00:00:04  1044  0.583137  0.412662"
      ]
     },
     "execution_count": 3,
     "metadata": {},
     "output_type": "execute_result"
    }
   ],
   "source": [
    "dd_df.head()"
   ]
  },
  {
   "cell_type": "markdown",
   "metadata": {},
   "source": [
    "# Start Client"
   ]
  },
  {
   "cell_type": "code",
   "execution_count": 4,
   "metadata": {
    "scrolled": false
   },
   "outputs": [
    {
     "name": "stdout",
     "output_type": "stream",
     "text": [
      "number of cores:  4\n"
     ]
    }
   ],
   "source": [
    "n_cores = multiprocessing.cpu_count()\n",
    "print('number of cores: ', n_cores)"
   ]
  },
  {
   "cell_type": "code",
   "execution_count": 5,
   "metadata": {},
   "outputs": [
    {
     "data": {
      "text/html": [
       "<table style=\"border: 2px solid white;\">\n",
       "<tr>\n",
       "<td style=\"vertical-align: top; border: 0px solid white\">\n",
       "<h3 style=\"text-align: left;\">Client</h3>\n",
       "<ul style=\"text-align: left; list-style: none; margin: 0; padding: 0;\">\n",
       "  <li><b>Scheduler: </b>tcp://127.0.0.1:40475</li>\n",
       "  <li><b>Dashboard: </b><a href='http://127.0.0.1:8787/status' target='_blank'>http://127.0.0.1:8787/status</a>\n",
       "</ul>\n",
       "</td>\n",
       "<td style=\"vertical-align: top; border: 0px solid white\">\n",
       "<h3 style=\"text-align: left;\">Cluster</h3>\n",
       "<ul style=\"text-align: left; list-style:none; margin: 0; padding: 0;\">\n",
       "  <li><b>Workers: </b>4</li>\n",
       "  <li><b>Cores: </b>4</li>\n",
       "  <li><b>Memory: </b>4.14 GB</li>\n",
       "</ul>\n",
       "</td>\n",
       "</tr>\n",
       "</table>"
      ],
      "text/plain": [
       "<Client: 'tcp://127.0.0.1:40475' processes=4 threads=4, memory=4.14 GB>"
      ]
     },
     "execution_count": 5,
     "metadata": {},
     "output_type": "execute_result"
    }
   ],
   "source": [
    "cluster = LocalCluster(ip=None, n_workers=n_cores, processes=True)\n",
    "client = Client(cluster)\n",
    "client"
   ]
  },
  {
   "cell_type": "markdown",
   "metadata": {},
   "source": [
    "# Q2"
   ]
  },
  {
   "cell_type": "code",
   "execution_count": 14,
   "metadata": {},
   "outputs": [
    {
     "name": "stdout",
     "output_type": "stream",
     "text": [
      "Resizing cluster to 1 worker(s)...\n",
      "dask time (ms):  2525.1510000016424\n",
      "Resizing cluster to 2 worker(s)...\n",
      "dask time (ms):  2887.740099999064\n",
      "Resizing cluster to 4 worker(s)...\n",
      "dask time (ms):  2937.811199997668\n"
     ]
    }
   ],
   "source": [
    "runtime_df = pd.DataFrame(columns=['n_cores','runtime (ms)'])\n",
    "\n",
    "n_workers = 1\n",
    "while n_workers <= n_cores:\n",
    "    print('Resizing cluster to %s worker(s)...' % n_workers)\n",
    "    cluster.scale(n_workers)\n",
    "    time.sleep(1)\n",
    "    \n",
    "    t_start = perf_counter()\n",
    "    dd_df.y.rolling('5min').mean().loc['2018-01-01':'2018-01-31'].compute()\n",
    "    t_stop = perf_counter()\n",
    "    \n",
    "    runtime = (t_stop - t_start)*1000\n",
    "    runtime_df = runtime_df.append({'n_cores': n_workers,'runtime (ms)': runtime},ignore_index=True)\n",
    "    print('dask time (ms): ', runtime)\n",
    "    n_workers *= 2;"
   ]
  },
  {
   "cell_type": "code",
   "execution_count": 15,
   "metadata": {},
   "outputs": [
    {
     "data": {
      "image/png": "[encoded data removed]",
      "text/plain": [
       "<Figure size 432x288 with 1 Axes>"
      ]
     },
     "metadata": {
      "needs_background": "light"
     },
     "output_type": "display_data"
    }
   ],
   "source": [
    "runtime_df.plot(x='n_cores',y='runtime (ms)',kind='bar',legend=False)\n",
    "plt.title('Dask Runtime vs. Number of Cores')\n",
    "plt.xlabel('# cores')\n",
    "plt.ylabel('runtime (ms)')\n",
    "plt.savefig('images/q2.png')"
   ]
  },
  {
   "cell_type": "code",
   "execution_count": 24,
   "metadata": {
    "scrolled": false
   },
   "outputs": [
    {
     "name": "stdout",
     "output_type": "stream",
     "text": [
      "Pandas time for computation only(ms): 641.5956000018923\n",
      "Pandas time with table conversion (ms): 2776.6767000030086\n"
     ]
    },
    {
     "data": {
      "text/plain": [
       "2049"
      ]
     },
     "execution_count": 24,
     "metadata": {},
     "output_type": "execute_result"
    }
   ],
   "source": [
    "t_1 = perf_counter()\n",
    "df = dd_df.compute()\n",
    "t_2 = perf_counter()\n",
    "df.y.rolling('5min').mean().loc['2018-01-01':'2018-01-31']\n",
    "t_3 = perf_counter()\n",
    "print('Pandas time for computation only(ms): %s' % ((t_3 - t_2)*1000))\n",
    "print('Pandas time with table conversion (ms): %s' % ((t_3 - t_1)*1000))\n",
    "\n",
    "\n",
    "# GC pandas df.\n",
    "del df\n",
    "gc.collect()"
   ]
  },
  {
   "cell_type": "code",
   "execution_count": 26,
   "metadata": {},
   "outputs": [
    {
     "name": "stdout",
     "output_type": "stream",
     "text": [
      "timestamp\n",
      "2018-01-01 00:00:00   -0.263514\n",
      "2018-01-01 00:00:01    0.215313\n",
      "2018-01-01 00:00:02    0.120395\n",
      "2018-01-01 00:00:03    0.289408\n",
      "2018-01-01 00:00:04    0.314059\n",
      "                         ...   \n",
      "2018-01-31 23:59:55   -0.027162\n",
      "2018-01-31 23:59:56   -0.028964\n",
      "2018-01-31 23:59:57   -0.026947\n",
      "2018-01-31 23:59:58   -0.020739\n",
      "2018-01-31 23:59:59   -0.017693\n",
      "Freq: S, Name: y, Length: 2678400, dtype: float64\n"
     ]
    }
   ],
   "source": [
    "df = dd_df.compute()\n",
    "df.y.rolling('5min').mean().loc['2018-01-01':'2018-01-31']"
   ]
  },
  {
   "cell_type": "markdown",
   "metadata": {},
   "source": [
    "# Q3"
   ]
  },
  {
   "cell_type": "code",
   "execution_count": 10,
   "metadata": {
    "scrolled": false
   },
   "outputs": [],
   "source": [
    "urls = (db.read_text('https://archive.analytics.mybinder.org/index.jsonl')\n",
    "                    .map(json.loads)\n",
    "                    .pluck('name')\n",
    "                    .compute())\n",
    "urls = ['https://archive.analytics.mybinder.org/' + u for u in urls]\n",
    "notebook_runs = db.read_text(urls).map(json.loads)"
   ]
  },
  {
   "cell_type": "code",
   "execution_count": 12,
   "metadata": {
    "scrolled": true
   },
   "outputs": [
    {
     "name": "stdout",
     "output_type": "stream",
     "text": [
      "Resizing cluster to 1 worker(s)...\n",
      "dask time (ms):  249008.9795999993\n",
      "Resizing cluster to 2 worker(s)...\n",
      "dask time (ms):  153375.6652000011\n",
      "Resizing cluster to 4 worker(s)...\n",
      "dask time (ms):  102789.95629999918\n"
     ]
    }
   ],
   "source": [
    "runtime_df_q3 = pd.DataFrame(columns=['n_cores','runtime (ms)'])\n",
    "\n",
    "n_workers = 1\n",
    "while n_workers <= n_cores:\n",
    "    print('Resizing cluster to %s worker(s)...' % n_workers)\n",
    "    cluster.scale(n_workers)\n",
    "    time.sleep(1)\n",
    "    \n",
    "    t_start = perf_counter()\n",
    "    (notebook_runs.filter(lambda record: record['timestamp'].startswith('2019-08'))\n",
    "                 .pluck('provider').frequencies(sort=True).take(2))\n",
    "    t_stop = perf_counter()\n",
    "    \n",
    "    runtime = (t_stop - t_start)*1000\n",
    "    runtime_df_q3 = runtime_df_q3.append({'n_cores': n_workers,'runtime (ms)': runtime},ignore_index=True)\n",
    "    print('dask time (ms): ', runtime)\n",
    "    n_workers *= 2"
   ]
  },
  {
   "cell_type": "code",
   "execution_count": 13,
   "metadata": {},
   "outputs": [
    {
     "data": {
      "image/png": "[encoded data removed]",
      "text/plain": [
       "<Figure size 432x288 with 1 Axes>"
      ]
     },
     "metadata": {
      "needs_background": "light"
     },
     "output_type": "display_data"
    }
   ],
   "source": [
    "runtime_df_q3.plot(x='n_cores',y='runtime (ms)',kind='bar',legend=False)\n",
    "plt.title('Dask Runtime vs. Number of Cores')\n",
    "plt.xlabel('# cores')\n",
    "plt.ylabel('runtime (ms)')\n",
    "plt.savefig('images/q3.png')"
   ]
  },
  {
   "cell_type": "code",
   "execution_count": 11,
   "metadata": {
    "scrolled": true
   },
   "outputs": [
    {
     "data": {
      "text/plain": [
       "(('GitHub', 374145), ('Gist', 5894))"
      ]
     },
     "execution_count": 11,
     "metadata": {},
     "output_type": "execute_result"
    }
   ],
   "source": [
    "notebook_runs.filter(lambda record: record['timestamp'].startswith('2019-08')).pluck('provider').frequencies(sort=True).take(2)"
   ]
  }
 ],
 "metadata": {
  "kernelspec": {
   "display_name": "Python 3",
   "language": "python",
   "name": "python3"
  },
  "language_info": {
   "codemirror_mode": {
    "name": "ipython",
    "version": 3
   },
   "file_extension": ".py",
   "mimetype": "text/x-python",
   "name": "python",
   "nbconvert_exporter": "python",
   "pygments_lexer": "ipython3",
   "version": "3.6.8"
  }
 },
 "nbformat": 4,
 "nbformat_minor": 2
}
